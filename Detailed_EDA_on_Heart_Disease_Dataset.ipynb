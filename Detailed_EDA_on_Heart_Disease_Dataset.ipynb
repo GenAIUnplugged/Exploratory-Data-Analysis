{
  "nbformat": 4,
  "nbformat_minor": 0,
  "metadata": {
    "colab": {
      "provenance": [],
      "authorship_tag": "ABX9TyNrr0f5ynZ1vCtcpmPht9N+",
      "include_colab_link": true
    },
    "kernelspec": {
      "name": "python3",
      "display_name": "Python 3"
    },
    "language_info": {
      "name": "python"
    }
  },
  "cells": [
    {
      "cell_type": "markdown",
      "metadata": {
        "id": "view-in-github",
        "colab_type": "text"
      },
      "source": [
        "<a href=\"https://colab.research.google.com/github/GenAIUnplugged/Exploratory-Data-Analysis/blob/main/Detailed_EDA_on_Heart_Disease_Dataset.ipynb\" target=\"_parent\"><img src=\"https://colab.research.google.com/assets/colab-badge.svg\" alt=\"Open In Colab\"/></a>"
      ]
    },
    {
      "cell_type": "code",
      "execution_count": null,
      "metadata": {
        "colab": {
          "base_uri": "https://localhost:8080/"
        },
        "id": "xhXH2NvrRomg",
        "outputId": "21c69123-4895-45e7-d5cf-bc72d31355bb"
      },
      "outputs": [
        {
          "output_type": "stream",
          "name": "stdout",
          "text": [
            "Requirement already satisfied: kaggle in /usr/local/lib/python3.11/dist-packages (1.7.4.5)\n",
            "Requirement already satisfied: bleach in /usr/local/lib/python3.11/dist-packages (from kaggle) (6.2.0)\n",
            "Requirement already satisfied: certifi>=14.05.14 in /usr/local/lib/python3.11/dist-packages (from kaggle) (2025.4.26)\n",
            "Requirement already satisfied: charset-normalizer in /usr/local/lib/python3.11/dist-packages (from kaggle) (3.4.2)\n",
            "Requirement already satisfied: idna in /usr/local/lib/python3.11/dist-packages (from kaggle) (3.10)\n",
            "Requirement already satisfied: protobuf in /usr/local/lib/python3.11/dist-packages (from kaggle) (5.29.4)\n",
            "Requirement already satisfied: python-dateutil>=2.5.3 in /usr/local/lib/python3.11/dist-packages (from kaggle) (2.9.0.post0)\n",
            "Requirement already satisfied: python-slugify in /usr/local/lib/python3.11/dist-packages (from kaggle) (8.0.4)\n",
            "Requirement already satisfied: requests in /usr/local/lib/python3.11/dist-packages (from kaggle) (2.32.3)\n",
            "Requirement already satisfied: setuptools>=21.0.0 in /usr/local/lib/python3.11/dist-packages (from kaggle) (75.2.0)\n",
            "Requirement already satisfied: six>=1.10 in /usr/local/lib/python3.11/dist-packages (from kaggle) (1.17.0)\n",
            "Requirement already satisfied: text-unidecode in /usr/local/lib/python3.11/dist-packages (from kaggle) (1.3)\n",
            "Requirement already satisfied: tqdm in /usr/local/lib/python3.11/dist-packages (from kaggle) (4.67.1)\n",
            "Requirement already satisfied: urllib3>=1.15.1 in /usr/local/lib/python3.11/dist-packages (from kaggle) (2.4.0)\n",
            "Requirement already satisfied: webencodings in /usr/local/lib/python3.11/dist-packages (from kaggle) (0.5.1)\n"
          ]
        }
      ],
      "source": [
        "!pip install kaggle"
      ]
    },
    {
      "cell_type": "code",
      "source": [
        "from google.colab import drive\n",
        "drive.mount('/content/drive')"
      ],
      "metadata": {
        "colab": {
          "base_uri": "https://localhost:8080/"
        },
        "id": "oo4qQKYVSFKT",
        "outputId": "b56e50f1-d181-406b-8fa8-829f9f684806"
      },
      "execution_count": null,
      "outputs": [
        {
          "output_type": "stream",
          "name": "stdout",
          "text": [
            "Drive already mounted at /content/drive; to attempt to forcibly remount, call drive.mount(\"/content/drive\", force_remount=True).\n"
          ]
        }
      ]
    },
    {
      "cell_type": "code",
      "source": [
        "!mkdir -p ~/.kaggle\n",
        "!cp /content/drive/MyDrive/kaggle.json ~/.kaggle/kaggle.json"
      ],
      "metadata": {
        "id": "1T1iwJKpSN1g"
      },
      "execution_count": null,
      "outputs": []
    },
    {
      "cell_type": "code",
      "source": [
        "!chmod 600 ~/.kaggle/kaggle.json"
      ],
      "metadata": {
        "id": "5xner7cFStN5"
      },
      "execution_count": null,
      "outputs": []
    },
    {
      "source": [
        "!kaggle datasets download johnsmith88/heart-disease-dataset"
      ],
      "cell_type": "code",
      "metadata": {
        "colab": {
          "base_uri": "https://localhost:8080/"
        },
        "id": "And4fKbWS86c",
        "outputId": "f31b1795-5120-4c9c-f004-3d03743d4a0a"
      },
      "execution_count": null,
      "outputs": [
        {
          "output_type": "stream",
          "name": "stdout",
          "text": [
            "Dataset URL: https://www.kaggle.com/datasets/johnsmith88/heart-disease-dataset\n",
            "License(s): unknown\n",
            "heart-disease-dataset.zip: Skipping, found more recently modified local copy (use --force to force download)\n"
          ]
        }
      ]
    },
    {
      "cell_type": "code",
      "source": [
        "!unzip heart-disease-dataset.zip"
      ],
      "metadata": {
        "colab": {
          "base_uri": "https://localhost:8080/"
        },
        "id": "7d9_4LLcR96n",
        "outputId": "12d7b65f-9906-46f2-f275-74ada0cda68f"
      },
      "execution_count": null,
      "outputs": [
        {
          "metadata": {
            "tags": null
          },
          "name": "stdout",
          "output_type": "stream",
          "text": [
            "Archive:  heart-disease-dataset.zip\n",
            "replace heart.csv? [y]es, [n]o, [A]ll, [N]one, [r]ename: "
          ]
        }
      ]
    },
    {
      "cell_type": "code",
      "source": [],
      "metadata": {
        "id": "Ez3R27z4TJas"
      },
      "execution_count": null,
      "outputs": []
    },
    {
      "source": [
        "# Task\n",
        "Tell me about this dataset.\n",
        "\n",
        "Here is all the data you need:\n",
        "\"heart.csv\""
      ],
      "cell_type": "markdown",
      "metadata": {
        "id": "6gAhYA7kTqj0"
      }
    },
    {
      "source": [
        "## Data loading\n",
        "\n",
        "### Subtask:\n",
        "Load the heart disease dataset from the provided CSV file.\n"
      ],
      "cell_type": "markdown",
      "metadata": {
        "id": "eXYyyDXUTrFg"
      }
    },
    {
      "source": [
        "**Reasoning**:\n",
        "Load the dataset and display its first few rows and shape to verify successful loading.\n",
        "\n"
      ],
      "cell_type": "markdown",
      "metadata": {
        "id": "QmZWXpSmTrkV"
      }
    },
    {
      "source": [
        "import pandas as pd\n",
        "\n",
        "try:\n",
        "    df = pd.read_csv('heart.csv')\n",
        "    display(df.head())\n",
        "    print(df.shape)\n",
        "except FileNotFoundError:\n",
        "    print(\"Error: 'heart.csv' not found. Please ensure the file is in the correct location and accessible.\")\n",
        "except Exception as e:\n",
        "    print(f\"An error occurred: {e}\")"
      ],
      "cell_type": "code",
      "metadata": {
        "id": "tAqLU1FXTr0D"
      },
      "execution_count": null,
      "outputs": []
    },
    {
      "source": [
        "## Data exploration\n",
        "\n",
        "### Subtask:\n",
        "Explore the loaded heart disease dataset to understand its characteristics.\n"
      ],
      "cell_type": "markdown",
      "metadata": {
        "id": "YGnEGPFsTu7i"
      }
    },
    {
      "source": [
        "**Reasoning**:\n",
        "I need to explore the dataset by examining data types, shape, missing values, and distributions of numerical and categorical features.\n",
        "\n"
      ],
      "cell_type": "markdown",
      "metadata": {
        "id": "bzSDwB-rTvpq"
      }
    },
    {
      "source": [
        "# Examine data types\n",
        "print(\"Data Types:\\n\", df.dtypes)\n",
        "\n",
        "# Determine the shape\n",
        "print(\"\\nShape:\", df.shape)\n",
        "\n",
        "# Identify and count missing values\n",
        "print(\"\\nMissing Values:\\n\", df.isnull().sum())\n",
        "\n",
        "# Analyze numerical features\n",
        "print(\"\\nNumerical Features Description:\\n\", df.describe())\n",
        "# Generate histograms for numerical features (adjust figure size as needed)\n",
        "import matplotlib.pyplot as plt\n",
        "\n",
        "numerical_features = ['age', 'trestbps', 'chol', 'thalach', 'oldpeak']\n",
        "plt.figure(figsize=(15, 10))\n",
        "for i, col in enumerate(numerical_features):\n",
        "    plt.subplot(2, 3, i + 1)\n",
        "    plt.hist(df[col], bins=20, color='skyblue', edgecolor='black')\n",
        "    plt.title(col)\n",
        "    plt.xlabel(col)\n",
        "    plt.ylabel('Frequency')\n",
        "plt.tight_layout()\n",
        "plt.show()\n",
        "\n",
        "# Analyze categorical features\n",
        "categorical_features = ['sex', 'cp', 'fbs', 'restecg', 'exang', 'slope', 'ca', 'thal', 'target']\n",
        "for col in categorical_features:\n",
        "    print(f\"\\nCategorical Feature: {col}\")\n",
        "    print(df[col].value_counts())\n",
        "    # Generate bar plots for categorical features\n",
        "    plt.figure(figsize=(8, 6))\n",
        "    df[col].value_counts().plot(kind='bar', color='salmon')\n",
        "    plt.title(col)\n",
        "    plt.xlabel(col)\n",
        "    plt.ylabel('Frequency')\n",
        "    plt.show()"
      ],
      "cell_type": "code",
      "metadata": {
        "id": "zF9hvYhETv5X"
      },
      "execution_count": null,
      "outputs": []
    },
    {
      "source": [
        "## Data analysis\n",
        "\n",
        "### Subtask:\n",
        "Analyze the heart disease dataset to identify potential correlations between features and calculate descriptive statistics.\n"
      ],
      "cell_type": "markdown",
      "metadata": {
        "id": "MAtZoGLGTze8"
      }
    },
    {
      "source": [
        "**Reasoning**:\n",
        "Calculate descriptive statistics for numerical features, analyze categorical features, explore correlations between numerical features, and investigate the relationship between each feature and the target variable.\n",
        "\n"
      ],
      "cell_type": "markdown",
      "metadata": {
        "id": "lA1v07T1T0ds"
      }
    },
    {
      "source": [
        "# Calculate descriptive statistics for numerical features\n",
        "numerical_features = ['age', 'trestbps', 'chol', 'thalach', 'oldpeak']\n",
        "print(\"Descriptive Statistics for Numerical Features:\\n\", df[numerical_features].describe())\n",
        "\n",
        "# Analyze categorical features\n",
        "categorical_features = ['sex', 'cp', 'fbs', 'restecg', 'exang', 'slope', 'ca', 'thal', 'target']\n",
        "for col in categorical_features:\n",
        "    print(f\"\\nCategorical Feature: {col}\")\n",
        "    print(df[col].value_counts(normalize=True))  # Display proportions\n",
        "\n",
        "# Explore correlations between numerical features\n",
        "import matplotlib.pyplot as plt\n",
        "import seaborn as sns\n",
        "plt.figure(figsize=(10, 8))\n",
        "correlation_matrix = df[numerical_features].corr()\n",
        "sns.heatmap(correlation_matrix, annot=True, cmap='coolwarm')\n",
        "plt.title('Correlation Matrix of Numerical Features')\n",
        "plt.show()\n",
        "\n",
        "\n",
        "# Investigate the relationship between each feature and the target variable\n",
        "for col in categorical_features:\n",
        "    print(f\"\\nMean Target Value for each category of {col}:\")\n",
        "    print(df.groupby(col)['target'].mean())\n",
        "\n",
        "for col in numerical_features:\n",
        "    plt.figure(figsize=(8, 6))\n",
        "    sns.boxplot(x='target', y=col, data=df)\n",
        "    plt.title(f'Box Plot of {col} vs. Target')\n",
        "    plt.show()"
      ],
      "cell_type": "code",
      "metadata": {
        "id": "1rk5KIsyT0td"
      },
      "execution_count": null,
      "outputs": []
    },
    {
      "source": [
        "## Data visualization\n",
        "\n",
        "### Subtask:\n",
        "Visualize the data distributions and correlations.\n"
      ],
      "cell_type": "markdown",
      "metadata": {
        "id": "74hyzSw_T4ss"
      }
    },
    {
      "source": [
        "**Reasoning**:\n",
        "Create histograms for numerical features, bar plots for categorical features, a heatmap for correlations, and box plots to show the relationship between categorical and numerical features.\n",
        "\n"
      ],
      "cell_type": "markdown",
      "metadata": {
        "id": "R5IpFLePT5qu"
      }
    },
    {
      "source": [
        "import matplotlib.pyplot as plt\n",
        "import seaborn as sns\n",
        "\n",
        "# Histograms for numerical features\n",
        "numerical_features = ['age', 'trestbps', 'chol', 'thalach', 'oldpeak']\n",
        "plt.figure(figsize=(15, 10))\n",
        "for i, col in enumerate(numerical_features):\n",
        "    plt.subplot(2, 3, i + 1)\n",
        "    plt.hist(df[col], bins=20, color='skyblue', edgecolor='black')\n",
        "    plt.title(col)\n",
        "    plt.xlabel(col)\n",
        "    plt.ylabel('Frequency')\n",
        "plt.tight_layout()\n",
        "plt.show()\n",
        "\n",
        "# Bar plots for categorical features\n",
        "categorical_features = ['sex', 'cp', 'fbs', 'restecg', 'exang', 'slope', 'ca', 'thal', 'target']\n",
        "for col in categorical_features:\n",
        "    plt.figure(figsize=(8, 6))\n",
        "    df[col].value_counts().plot(kind='bar', color='salmon')\n",
        "    plt.title(col)\n",
        "    plt.xlabel(col)\n",
        "    plt.ylabel('Frequency')\n",
        "    plt.show()\n",
        "\n",
        "# Heatmap for correlation matrix\n",
        "plt.figure(figsize=(10, 8))\n",
        "correlation_matrix = df[numerical_features].corr()\n",
        "sns.heatmap(correlation_matrix, annot=True, cmap='coolwarm')\n",
        "plt.title('Correlation Matrix of Numerical Features')\n",
        "plt.show()\n",
        "\n",
        "# Box plots for categorical vs. numerical features\n",
        "for col in categorical_features:\n",
        "    plt.figure(figsize=(8, 6))\n",
        "    sns.boxplot(x=col, y='chol', data=df) # Example using 'chol', change as needed\n",
        "    plt.title(f'Box Plot of chol vs. {col}')\n",
        "    plt.show()"
      ],
      "cell_type": "code",
      "metadata": {
        "id": "KF0KMk2NT56f"
      },
      "execution_count": null,
      "outputs": []
    },
    {
      "source": [
        "## Summary:\n",
        "\n",
        "### Q&A\n",
        "There were no explicit questions asked in the task. However, the analysis explored the dataset to understand its characteristics, identify potential correlations, and visualize the data distributions.\n",
        "\n",
        "### Data Analysis Key Findings\n",
        "* The dataset contains 1025 rows and 14 columns with no missing values.\n",
        "* Numerical features like age, resting blood pressure (trestbps), cholesterol (chol), maximum heart rate (thalach), and ST depression induced by exercise relative to rest (oldpeak) showed varying distributions, with potential outliers observed in chol and oldpeak.\n",
        "* Categorical features, including sex, chest pain type (cp), fasting blood sugar (fbs), resting electrocardiographic results (restecg), exercise induced angina (exang), the slope of the peak exercise ST segment (slope), number of major vessels (ca), thalassemia (thal), and the target variable (presence of heart disease), were analyzed to understand their distributions and relationships with the target variable.  The 'target' variable appears to be relatively balanced.\n",
        "* Correlation analysis of numerical features revealed relationships between them, visualized through a heatmap.\n",
        "* Box plots were used to visualize the relationship between each feature and the target variable.  This helps to see how numerical features vary based on the presence or absence of heart disease.\n",
        "\n",
        "\n",
        "### Insights or Next Steps\n",
        "* Investigate the potential outliers in 'chol' and 'oldpeak' and consider appropriate handling methods (e.g., removal, transformation).\n",
        "* Further explore the relationships between features and the target variable using more advanced statistical methods or machine learning models to build a predictive model for heart disease.\n"
      ],
      "cell_type": "markdown",
      "metadata": {
        "id": "W1qsduFaT_Uj"
      }
    },
    {
      "cell_type": "code",
      "source": [],
      "metadata": {
        "id": "9zcfOltjXmu2"
      },
      "execution_count": null,
      "outputs": []
    }
  ]
}